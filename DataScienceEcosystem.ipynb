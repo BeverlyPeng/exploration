{
 "cells": [
  {
   "cell_type": "markdown",
   "id": "130517f5",
   "metadata": {},
   "source": [
    "# DataScienceEcosystem"
   ]
  },
  {
   "cell_type": "markdown",
   "id": "23abb9f1",
   "metadata": {},
   "source": [
    "In this notebook, Data Science Tools and Ecosystem are summarized."
   ]
  },
  {
   "cell_type": "markdown",
   "id": "cf7ab423",
   "metadata": {},
   "source": [
    "**Objectives:**\n",
    "\n",
    "* Listing R packages for data visualization\n",
    "* Understanding how to use GitHub for data science\n",
    "* What are key elements  that make a good data scientist?\n",
    "* How does machine learning relate to data science"
   ]
  },
  {
   "cell_type": "markdown",
   "id": "aea0d977",
   "metadata": {},
   "source": [
    "Some of the popular languages that Data Scientists use are: \n",
    "\n",
    "1. Python\n",
    "2. R\n",
    "3. SQL"
   ]
  },
  {
   "cell_type": "markdown",
   "id": "2f63fe8c",
   "metadata": {},
   "source": [
    "Some of the commonly used libraries used by Data Scientists include: \n",
    "\n",
    "1. pandas\n",
    "2. numpy\n",
    "3. sklearn\n",
    "4. Plotly\n",
    "5. ggplot\n",
    "6. Lattice"
   ]
  },
  {
   "cell_type": "markdown",
   "id": "1514380c",
   "metadata": {},
   "source": [
    "| Data Science Tools |\n",
    "| --- |\n",
    "| RStudio |\n",
    "| Apache Spark |\n",
    "| TensorFlow |"
   ]
  },
  {
   "cell_type": "markdown",
   "id": "9e26b8b6",
   "metadata": {},
   "source": [
    "### Below are a few examples of evaluating arithmetic expressions in Python\n",
    "\n",
    "$1 + 2 = 3$\n",
    "\n",
    "$x = 10$\n",
    "\n",
    "$y = 12$\n",
    "\n",
    "$xy = 120$\n",
    "\n",
    "$x^2 = 100$"
   ]
  },
  {
   "cell_type": "code",
   "execution_count": 2,
   "id": "b4e4ee8f",
   "metadata": {},
   "outputs": [
    {
     "data": {
      "text/plain": [
       "17"
      ]
     },
     "execution_count": 2,
     "metadata": {},
     "output_type": "execute_result"
    }
   ],
   "source": [
    "# This a simple arithmetic expression to mutiply then add integers\n",
    "(3*4)+5"
   ]
  },
  {
   "cell_type": "code",
   "execution_count": 3,
   "id": "4bfd9068",
   "metadata": {},
   "outputs": [
    {
     "data": {
      "text/plain": [
       "3.3333333333333335"
      ]
     },
     "execution_count": 3,
     "metadata": {},
     "output_type": "execute_result"
    }
   ],
   "source": [
    "# This will convert 200 minutes to hours by diving by 60\n",
    "minutes = 200\n",
    "hours = minutes/60\n",
    "hours"
   ]
  },
  {
   "cell_type": "markdown",
   "id": "9d343db5",
   "metadata": {},
   "source": [
    "## Author \n",
    "\n",
    "Beverly Peng"
   ]
  }
 ],
 "metadata": {
  "kernelspec": {
   "display_name": "Python 3 (ipykernel)",
   "language": "python",
   "name": "python3"
  },
  "language_info": {
   "codemirror_mode": {
    "name": "ipython",
    "version": 3
   },
   "file_extension": ".py",
   "mimetype": "text/x-python",
   "name": "python",
   "nbconvert_exporter": "python",
   "pygments_lexer": "ipython3",
   "version": "3.9.13"
  }
 },
 "nbformat": 4,
 "nbformat_minor": 5
}
